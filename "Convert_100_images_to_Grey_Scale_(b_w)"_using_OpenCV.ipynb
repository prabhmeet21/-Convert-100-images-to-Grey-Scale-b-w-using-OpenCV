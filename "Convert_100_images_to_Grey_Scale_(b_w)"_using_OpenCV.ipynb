{
  "nbformat": 4,
  "nbformat_minor": 0,
  "metadata": {
    "colab": {
      "provenance": [],
      "authorship_tag": "ABX9TyMtrwmzVBOfqdLkoz8aRSFk",
      "include_colab_link": true
    },
    "kernelspec": {
      "name": "python3",
      "display_name": "Python 3"
    },
    "language_info": {
      "name": "python"
    }
  },
  "cells": [
    {
      "cell_type": "markdown",
      "metadata": {
        "id": "view-in-github",
        "colab_type": "text"
      },
      "source": [
        "<a href=\"https://colab.research.google.com/github/prabhmeet21/-Convert-100-images-to-Grey-Scale-b-w-using-OpenCV/blob/main/%22Convert_100_images_to_Grey_Scale_(b_w)%22_using_OpenCV.ipynb\" target=\"_parent\"><img src=\"https://colab.research.google.com/assets/colab-badge.svg\" alt=\"Open In Colab\"/></a>"
      ]
    },
    {
      "cell_type": "code",
      "source": [
        "import cv2\n",
        "import numpy as np\n",
        "import os\n",
        "\n",
        "# Create folder\n",
        "input_folder = 'images_input'\n",
        "os.makedirs(input_folder, exist_ok=True)\n",
        "\n",
        "# Generate 100 dummy colored images (100x100 px)\n",
        "for i in range(100):\n",
        "    img = np.random.randint(0, 256, (100, 100, 3), dtype=np.uint8)  # random color\n",
        "    filename = f'image_{i+1:03}.jpg'\n",
        "    cv2.imwrite(os.path.join(input_folder, filename), img)"
      ],
      "metadata": {
        "id": "OaxyV0dZB_et"
      },
      "execution_count": 1,
      "outputs": []
    },
    {
      "cell_type": "code",
      "source": [
        "# Create output folder\n",
        "output_folder = 'images_bw'\n",
        "os.makedirs(output_folder, exist_ok=True)\n",
        "\n",
        "# Get images\n",
        "image_files = [f for f in os.listdir(input_folder) if f.lower().endswith(('.png', '.jpg', '.jpeg'))]\n",
        "\n",
        "# Convert to black-and-white\n",
        "for i, file_name in enumerate(image_files):\n",
        "    input_path = os.path.join(input_folder, file_name)\n",
        "    output_path = os.path.join(output_folder, file_name)\n",
        "\n",
        "    image = cv2.imread(input_path)\n",
        "    gray = cv2.cvtColor(image, cv2.COLOR_BGR2GRAY)\n",
        "    _, bw = cv2.threshold(gray, 127, 255, cv2.THRESH_BINARY)\n",
        "    cv2.imwrite(output_path, bw)\n",
        "\n",
        "    print(f\"{i+1}: {file_name} converted.\")\n",
        "\n",
        "print(\"All 100 images converted to black-and-white.\")"
      ],
      "metadata": {
        "id": "MfZXAr0-CHgS"
      },
      "execution_count": null,
      "outputs": []
    },
    {
      "cell_type": "code",
      "source": [
        "import shutil\n",
        "from google.colab import files\n",
        "\n",
        "# Create zip of output folder\n",
        "shutil.make_archive(\"bw_images\", 'zip', output_folder)\n",
        "\n",
        "# Download\n",
        "files.download(\"bw_images.zip\")"
      ],
      "metadata": {
        "colab": {
          "base_uri": "https://localhost:8080/",
          "height": 17
        },
        "id": "8zldhCNJCHdP",
        "outputId": "4a1dee6f-87ea-4ac9-e960-74777b4ac209"
      },
      "execution_count": 3,
      "outputs": [
        {
          "output_type": "display_data",
          "data": {
            "text/plain": [
              "<IPython.core.display.Javascript object>"
            ],
            "application/javascript": [
              "\n",
              "    async function download(id, filename, size) {\n",
              "      if (!google.colab.kernel.accessAllowed) {\n",
              "        return;\n",
              "      }\n",
              "      const div = document.createElement('div');\n",
              "      const label = document.createElement('label');\n",
              "      label.textContent = `Downloading \"${filename}\": `;\n",
              "      div.appendChild(label);\n",
              "      const progress = document.createElement('progress');\n",
              "      progress.max = size;\n",
              "      div.appendChild(progress);\n",
              "      document.body.appendChild(div);\n",
              "\n",
              "      const buffers = [];\n",
              "      let downloaded = 0;\n",
              "\n",
              "      const channel = await google.colab.kernel.comms.open(id);\n",
              "      // Send a message to notify the kernel that we're ready.\n",
              "      channel.send({})\n",
              "\n",
              "      for await (const message of channel.messages) {\n",
              "        // Send a message to notify the kernel that we're ready.\n",
              "        channel.send({})\n",
              "        if (message.buffers) {\n",
              "          for (const buffer of message.buffers) {\n",
              "            buffers.push(buffer);\n",
              "            downloaded += buffer.byteLength;\n",
              "            progress.value = downloaded;\n",
              "          }\n",
              "        }\n",
              "      }\n",
              "      const blob = new Blob(buffers, {type: 'application/binary'});\n",
              "      const a = document.createElement('a');\n",
              "      a.href = window.URL.createObjectURL(blob);\n",
              "      a.download = filename;\n",
              "      div.appendChild(a);\n",
              "      a.click();\n",
              "      div.remove();\n",
              "    }\n",
              "  "
            ]
          },
          "metadata": {}
        },
        {
          "output_type": "display_data",
          "data": {
            "text/plain": [
              "<IPython.core.display.Javascript object>"
            ],
            "application/javascript": [
              "download(\"download_55d9cb42-9921-4138-a578-11f02ec25145\", \"bw_images.zip\", 1317910)"
            ]
          },
          "metadata": {}
        }
      ]
    }
  ]
}